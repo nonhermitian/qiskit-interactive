{
  "cells": [
    {
      "cell_type": "code",
      "source": [
        "import os\n",
        "import sys"
      ],
      "outputs": [],
      "execution_count": null,
      "metadata": {
        "ExecuteTime": {
          "end_time": "2019-06-18T18:55:35.188781Z",
          "start_time": "2019-06-18T18:55:35.184898Z"
        }
      }
    },
    {
      "cell_type": "code",
      "source": [
        "from qiskit import BasicAer, execute\n",
        "from qiskit.circuit import QuantumRegister, ClassicalRegister, QuantumCircuit\n",
        "from qiskit.compiler import transpile\n",
        "from qiskit.tools.parallel import parallel_map\n",
        "from qiskit.tools.monitor import job_monitor\n",
        "from qiskit.tools.events import TextProgressBar\n",
        "from qiskit.jupyter import *"
      ],
      "outputs": [],
      "execution_count": null,
      "metadata": {
        "ExecuteTime": {
          "end_time": "2019-06-18T18:55:38.156364Z",
          "start_time": "2019-06-18T18:55:35.378097Z"
        }
      }
    },
    {
      "cell_type": "code",
      "source": [
        "sim_backend = BasicAer.get_backend('qasm_simulator')"
      ],
      "outputs": [],
      "execution_count": null,
      "metadata": {
        "ExecuteTime": {
          "end_time": "2019-06-18T18:55:38.166654Z",
          "start_time": "2019-06-18T18:55:38.163770Z"
        }
      }
    },
    {
      "cell_type": "code",
      "source": [
        "import time\n",
        "def func(_):\n",
        "    time.sleep(0.1)\n",
        "    return 0"
      ],
      "outputs": [],
      "execution_count": null,
      "metadata": {
        "ExecuteTime": {
          "end_time": "2019-06-18T18:55:38.176179Z",
          "start_time": "2019-06-18T18:55:38.173558Z"
        }
      }
    },
    {
      "cell_type": "markdown",
      "source": [
        "## Test HTMLProgressBar"
      ],
      "metadata": {}
    },
    {
      "cell_type": "code",
      "source": [
        "HTMLProgressBar()\n",
        "parallel_map(func, list(range(10)));"
      ],
      "outputs": [],
      "execution_count": null,
      "metadata": {
        "ExecuteTime": {
          "end_time": "2019-06-18T18:55:38.539347Z",
          "start_time": "2019-06-18T18:55:38.182938Z"
        }
      }
    },
    {
      "cell_type": "markdown",
      "source": [
        "## Test magic with HTMLProgessBar"
      ],
      "metadata": {}
    },
    {
      "cell_type": "code",
      "source": [
        "%qiskit_progress_bar\n",
        "parallel_map(func, list(range(10)));"
      ],
      "outputs": [],
      "execution_count": null,
      "metadata": {
        "ExecuteTime": {
          "end_time": "2019-06-18T18:55:38.915560Z",
          "start_time": "2019-06-18T18:55:38.551450Z"
        }
      }
    },
    {
      "cell_type": "markdown",
      "source": [
        "## Test TextProgressBar"
      ],
      "metadata": {}
    },
    {
      "cell_type": "code",
      "source": [
        "TextProgressBar()\n",
        "parallel_map(func, list(range(10)));"
      ],
      "outputs": [],
      "execution_count": null,
      "metadata": {
        "ExecuteTime": {
          "end_time": "2019-06-18T18:55:39.368056Z",
          "start_time": "2019-06-18T18:55:38.924572Z"
        }
      }
    },
    {
      "cell_type": "markdown",
      "source": [
        "## Test magic with TextProgessBar"
      ],
      "metadata": {}
    },
    {
      "cell_type": "code",
      "source": [
        "%qiskit_progress_bar -t text\n",
        "parallel_map(func, list(range(10)));"
      ],
      "outputs": [],
      "execution_count": null,
      "metadata": {
        "ExecuteTime": {
          "end_time": "2019-06-18T18:55:39.721598Z",
          "start_time": "2019-06-18T18:55:39.377489Z"
        }
      }
    },
    {
      "cell_type": "markdown",
      "source": [
        "## Check transpile spawns progress bar"
      ],
      "metadata": {}
    },
    {
      "cell_type": "code",
      "source": [
        "q = QuantumRegister(2)\n",
        "c = ClassicalRegister(2)\n",
        "qc = QuantumCircuit(q, c)\n",
        "\n",
        "qc.h(q[0])\n",
        "qc.cx(q[0], q[1])\n",
        "qc.measure(q, c)\n",
        "\n",
        "HTMLProgressBar()\n",
        "qobj = transpile([qc]*20, backend=sim_backend)"
      ],
      "outputs": [],
      "execution_count": null,
      "metadata": {
        "ExecuteTime": {
          "end_time": "2019-06-18T18:55:39.887245Z",
          "start_time": "2019-06-18T18:55:39.731545Z"
        }
      }
    },
    {
      "cell_type": "markdown",
      "source": [
        "## Test job_monitor"
      ],
      "metadata": {}
    },
    {
      "cell_type": "code",
      "source": [
        "job_sim2 = execute([qc]*10, backend=sim_backend)\n",
        "job_monitor(job_sim2)"
      ],
      "outputs": [],
      "execution_count": null,
      "metadata": {
        "ExecuteTime": {
          "end_time": "2019-06-18T18:55:42.075197Z",
          "start_time": "2019-06-18T18:55:39.900836Z"
        }
      }
    }
  ],
  "metadata": {
    "hide_input": false,
    "kernelspec": {
      "name": "python3",
      "language": "python",
      "display_name": "Python 3"
    },
    "language_info": {
      "name": "python",
      "version": "3.7.5",
      "mimetype": "text/x-python",
      "codemirror_mode": {
        "name": "ipython",
        "version": 3
      },
      "pygments_lexer": "ipython3",
      "nbconvert_exporter": "python",
      "file_extension": ".py"
    },
    "nteract": {
      "version": "0.15.0"
    },
    "varInspector": {
      "cols": {
        "lenName": 16,
        "lenType": 16,
        "lenVar": 40
      },
      "kernels_config": {
        "python": {
          "delete_cmd_postfix": "",
          "delete_cmd_prefix": "del ",
          "library": "var_list.py",
          "varRefreshCmd": "print(var_dic_list())"
        },
        "r": {
          "delete_cmd_postfix": ") ",
          "delete_cmd_prefix": "rm(",
          "library": "var_list.r",
          "varRefreshCmd": "cat(var_dic_list()) "
        }
      },
      "types_to_exclude": [
        "module",
        "function",
        "builtin_function_or_method",
        "instance",
        "_Feature"
      ],
      "window_display": false
    },
    "kernel_info": {
      "name": "python3"
    }
  },
  "nbformat": 4,
  "nbformat_minor": 2
}